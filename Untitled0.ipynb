{
  "nbformat": 4,
  "nbformat_minor": 0,
  "metadata": {
    "colab": {
      "provenance": [],
      "authorship_tag": "ABX9TyM20CrRsECNxI7wM+E2NJkG",
      "include_colab_link": true
    },
    "kernelspec": {
      "name": "python3",
      "display_name": "Python 3"
    },
    "language_info": {
      "name": "python"
    }
  },
  "cells": [
    {
      "cell_type": "markdown",
      "metadata": {
        "id": "view-in-github",
        "colab_type": "text"
      },
      "source": [
        "<a href=\"https://colab.research.google.com/github/Pedrohq26/AnimaCursoExtensaoPython2022-2/blob/main/Untitled0.ipynb\" target=\"_parent\"><img src=\"https://colab.research.google.com/assets/colab-badge.svg\" alt=\"Open In Colab\"/></a>"
      ]
    },
    {
      "cell_type": "code",
      "execution_count": null,
      "metadata": {
        "colab": {
          "base_uri": "https://localhost:8080/"
        },
        "id": "d3pKACGSKuI2",
        "outputId": "10eff01d-e33b-435d-fd2e-69c2e463b264"
      },
      "outputs": [
        {
          "output_type": "stream",
          "name": "stdout",
          "text": [
            "12\n",
            "110\n",
            "254\n",
            "[110, 20, 45, 67, 12, 100]\n",
            "[110, 20, 45, 67, 12, 100, 27, 31, 42]\n"
          ]
        }
      ],
      "source": [
        "L = [110, 20, 45, 67, 12]\n",
        "print(min(L))\n",
        "print(max(L))\n",
        "print(sum(L))\n",
        "L.append(100)\n",
        "print(L)\n",
        "L2 = [27, 31, 42]\n",
        "L.extend(L2)\n",
        "print(L)"
      ]
    },
    {
      "cell_type": "code",
      "source": [
        "L = [1, 2, 3, 4]\n",
        "print(L)\n",
        "del L[1]\n",
        "print(L)\n"
      ],
      "metadata": {
        "colab": {
          "base_uri": "https://localhost:8080/"
        },
        "id": "hUcU3udfQBir",
        "outputId": "0ebd6809-f9fa-478b-e662-a3b79930d97f"
      },
      "execution_count": null,
      "outputs": [
        {
          "output_type": "stream",
          "name": "stdout",
          "text": [
            "[1, 2, 3, 4]\n",
            "[1, 3, 4]\n"
          ]
        }
      ]
    },
    {
      "cell_type": "code",
      "source": [
        "L = [1, 2, 3, 4]\n",
        "print(2 in L) #True\n",
        "print(7 in L) #False\n",
        "L2 = [57, 82, 14, 13, 21, 63]\n",
        "L2.sort()\n",
        "print(L2)\n",
        "L2.reverse()\n",
        "print(L2)"
      ],
      "metadata": {
        "colab": {
          "base_uri": "https://localhost:8080/"
        },
        "id": "nT0w8Yf1Q8ma",
        "outputId": "1d3464d9-a817-4a28-f9ff-01c217bbfca8"
      },
      "execution_count": null,
      "outputs": [
        {
          "output_type": "stream",
          "name": "stdout",
          "text": [
            "True\n",
            "False\n",
            "[13, 14, 21, 57, 63, 82]\n",
            "[82, 63, 57, 21, 14, 13]\n"
          ]
        }
      ]
    },
    {
      "cell_type": "code",
      "source": [
        "a = [0, 2, 4]\n",
        "b = [3,5,8]\n",
        "c = a + b\n",
        "print(c)\n",
        "d = a * 3 # * = Repetição de uma lista\n",
        "print(d)"
      ],
      "metadata": {
        "colab": {
          "base_uri": "https://localhost:8080/"
        },
        "id": "1CA2kbAYVDnC",
        "outputId": "1cb01a04-692c-47c0-a5fe-4abe069bf0f6"
      },
      "execution_count": null,
      "outputs": [
        {
          "output_type": "stream",
          "name": "stdout",
          "text": [
            "[0, 2, 4, 3, 5, 8]\n",
            "[0, 2, 4, 0, 2, 4, 0, 2, 4]\n"
          ]
        }
      ]
    },
    {
      "cell_type": "code",
      "source": [
        "L = [13, \"TEXTO\", True, [1,2,3], \"texto2\"]\n",
        "print(L[1:4])\n",
        "print(L[2:])\n",
        "print(L[:3])"
      ],
      "metadata": {
        "colab": {
          "base_uri": "https://localhost:8080/"
        },
        "id": "5irNx97OWrZV",
        "outputId": "74818c13-1733-4c98-87ce-472052f4eda3"
      },
      "execution_count": null,
      "outputs": [
        {
          "output_type": "stream",
          "name": "stdout",
          "text": [
            "['TEXTO', True, [1, 2, 3]]\n",
            "[True, [1, 2, 3], 'texto2']\n",
            "[13, 'TEXTO', True]\n"
          ]
        }
      ]
    },
    {
      "cell_type": "code",
      "source": [
        "l1 = list(range(5))\n",
        "l2 = list(range(3,8))\n",
        "l3 = list(range(2,11,3))\n"
      ],
      "metadata": {
        "id": "tvyw2jvDapTI"
      },
      "execution_count": null,
      "outputs": []
    },
    {
      "cell_type": "code",
      "source": [
        "Precos = {\"lapis\" : 5.5, \"Caneta\": 7.0, \"Borracha\" : 6.5}\n",
        "print(\"Caneta\" in Precos)\n",
        "print(\"caderno\" in Precos)\n",
        "print(Precos.keys())\n",
        "print(Precos.values())"
      ],
      "metadata": {
        "colab": {
          "base_uri": "https://localhost:8080/"
        },
        "id": "zgHtwQWNiu0Z",
        "outputId": "624210bd-4e28-4929-f094-0ebd93d79690"
      },
      "execution_count": null,
      "outputs": [
        {
          "output_type": "stream",
          "name": "stdout",
          "text": [
            "True\n",
            "False\n",
            "dict_keys(['lapis', 'Caneta', 'Borracha'])\n",
            "dict_values([5.5, 7.0, 6.5])\n"
          ]
        }
      ]
    },
    {
      "cell_type": "code",
      "source": [
        "d = {\"cachorro\" : \"dog\", \"gato\" : \"cat\"}\n",
        "print(d[\"gato\"])\n",
        "print(\"gato\" in d)\n",
        "print('girafa' in d)\n",
        "d[\"peixe\"] = \"fish\"\n",
        "print(d)"
      ],
      "metadata": {
        "colab": {
          "base_uri": "https://localhost:8080/"
        },
        "id": "hgBuug4-mY-2",
        "outputId": "6a876536-391a-4bb8-a22b-932f76332600"
      },
      "execution_count": null,
      "outputs": [
        {
          "output_type": "stream",
          "name": "stdout",
          "text": [
            "cat\n",
            "True\n",
            "False\n",
            "{'cachorro': 'dog', 'gato': 'cat', 'peixe': 'fish'}\n"
          ]
        }
      ]
    },
    {
      "cell_type": "code",
      "source": [
        "animais = {\"gato\", \"chachorro\", \"gato\"}\n",
        "print(\"gato\" in animais) #True\n",
        "print(\"ovelha\" in animais) #False\n",
        "animais.add(\"ovelha\")\n",
        "print(animais)\n",
        "print(len(animais))\n",
        "animais.remove(\"ovelha\")\n",
        "print(len(animais))"
      ],
      "metadata": {
        "colab": {
          "base_uri": "https://localhost:8080/"
        },
        "id": "tOxJRht-oDL7",
        "outputId": "f973e5de-9441-4f99-b957-0336a2dfd6c2"
      },
      "execution_count": null,
      "outputs": [
        {
          "output_type": "stream",
          "name": "stdout",
          "text": [
            "True\n",
            "False\n",
            "{'ovelha', 'chachorro', 'gato'}\n",
            "3\n",
            "2\n"
          ]
        }
      ]
    },
    {
      "cell_type": "code",
      "source": [
        "tupla = (1,2,3,4,5,6)\n",
        "print(tupla)\n",
        "print(tupla[4])"
      ],
      "metadata": {
        "colab": {
          "base_uri": "https://localhost:8080/"
        },
        "id": "64VCTpIkrTyF",
        "outputId": "bfab2b2c-7802-4b11-c257-4c4992464e67"
      },
      "execution_count": null,
      "outputs": [
        {
          "output_type": "stream",
          "name": "stdout",
          "text": [
            "(1, 2, 3, 4, 5, 6)\n",
            "5\n"
          ]
        }
      ]
    },
    {
      "cell_type": "code",
      "source": [
        "def soma(numero1,numero2):\n",
        " resultado = numero1 + numero2\n",
        " return resultado\n",
        "soma(2,1)\n",
        "\n",
        "def leitura():\n",
        "  nome = input(\"digite o seu nome: \")\n",
        "  sobrenome = input(\"Digite seu sobrenome: \")\n",
        "  nomeCompleto = nome + \" \" + sobrenome\n",
        "  return nomeCompleto\n",
        "\n",
        "print(leitura())"
      ],
      "metadata": {
        "colab": {
          "base_uri": "https://localhost:8080/"
        },
        "id": "CnV0P3xEr5Fs",
        "outputId": "57508648-901c-4ddc-e105-5bab9a763cbf"
      },
      "execution_count": null,
      "outputs": [
        {
          "output_type": "stream",
          "name": "stdout",
          "text": [
            "digite o seu nome: Pedro\n",
            "Digite seu sobrenome: Quintela\n",
            "Pedro Quintela\n"
          ]
        }
      ]
    },
    {
      "cell_type": "code",
      "source": [
        "def potencial(numero1,numero2):\n",
        "  resultado = numero1 ** numero2\n",
        "  return resultado\n",
        "\n",
        "x = int (input(\"Digite o primeiro numero:\"))\n",
        "y = int (input(\"Digite o segundo numero:\"))\n",
        "print(potencial(x,y))\n"
      ],
      "metadata": {
        "colab": {
          "base_uri": "https://localhost:8080/"
        },
        "id": "2rPwRiW9v6iK",
        "outputId": "c88e55cf-9e62-4b6d-d931-d4c828995df0"
      },
      "execution_count": null,
      "outputs": [
        {
          "output_type": "stream",
          "name": "stdout",
          "text": [
            "Digite o primeiro numero:3\n",
            "Digite o segundo numero:2\n",
            "9\n"
          ]
        }
      ]
    }
  ]
}